{
  "nbformat": 4,
  "nbformat_minor": 0,
  "metadata": {
    "colab": {
      "provenance": [],
      "authorship_tag": "ABX9TyOnIrT2loIBP4UYOsHXzU7u",
      "include_colab_link": true
    },
    "kernelspec": {
      "name": "python3",
      "display_name": "Python 3"
    },
    "language_info": {
      "name": "python"
    }
  },
  "cells": [
    {
      "cell_type": "markdown",
      "metadata": {
        "id": "view-in-github",
        "colab_type": "text"
      },
      "source": [
        "<a href=\"https://colab.research.google.com/github/Raajjie/CPEN60-Execises/blob/main/Chap10_15.ipynb\" target=\"_parent\"><img src=\"https://colab.research.google.com/assets/colab-badge.svg\" alt=\"Open In Colab\"/></a>"
      ]
    },
    {
      "cell_type": "code",
      "execution_count": null,
      "metadata": {
        "colab": {
          "base_uri": "https://localhost:8080/"
        },
        "id": "O9eX05JsxAPR",
        "outputId": "8c909ec0-e3ba-4a9f-c7b0-4cc5924525f8"
      },
      "outputs": [
        {
          "output_type": "stream",
          "name": "stdout",
          "text": [
            "249\n"
          ]
        }
      ],
      "source": [
        "#15\n",
        "def count_zeroes(n):\n",
        "    count = 0\n",
        "    while n >= 5:\n",
        "        n //= 5\n",
        "        count += n\n",
        "    return count\n",
        "\n",
        "num_zeroes = count_zeroes(1000)\n",
        "print(num_zeroes)"
      ]
    }
  ]
}